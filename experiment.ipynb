{
 "cells": [
  {
   "cell_type": "code",
   "execution_count": 1,
   "metadata": {},
   "outputs": [],
   "source": [
    "import scipy.io\n",
    "from PIL import Image, ImageDraw"
   ]
  },
  {
   "cell_type": "code",
   "execution_count": 2,
   "metadata": {},
   "outputs": [],
   "source": [
    "def get_axis(file):\n",
    "    values = []\n",
    "    mat = scipy.io.loadmat(file)\n",
    "    a = mat['gt']\n",
    "    b = [ i for i in a]\n",
    "    for i in b:\n",
    "        c = {\n",
    "            'x': i[1],\n",
    "            'y': i[3],\n",
    "            'val' :i[4]\n",
    "        }\n",
    "        \n",
    "        values.append(c)\n",
    "            \n",
    "    \n",
    "    return values\n",
    "    \n",
    "    \n",
    "    "
   ]
  },
  {
   "cell_type": "code",
   "execution_count": 3,
   "metadata": {},
   "outputs": [],
   "source": [
    "def load_image(path ):\n",
    "    \n",
    "    img = Image.open(path)\n",
    "    img.show()\n",
    "    color = (255,0,0)\n",
    "    thickness = 2\n",
    "    draw = ImageDraw.Draw(img)\n",
    "    return img, color, thickness, draw"
   ]
  },
  {
   "cell_type": "code",
   "execution_count": 41,
   "metadata": {},
   "outputs": [],
   "source": [
    "def draw_line(file, path):\n",
    "    a= get_axis(file)\n",
    "    img , color , thickness, draw = load_image(path)\n",
    "    for i in range(len(a)):\n",
    "        for j in range(1, len(a[i]['x'][0]+1)):\n",
    "        \n",
    "            x_start = a[i]['x'][0][j-1]\n",
    "            y_start = a[i]['y'][0][j-1]\n",
    "            x_end = a[i]['x'][0][j]\n",
    "            y_end = a[i]['y'][0][j]\n",
    "            sta = (a[i]['x'][0][0], a[i]['y'][0][0])\n",
    "            start = (x_start, y_start)\n",
    "            end = (x_end, y_end)\n",
    "            draw.line([start, end], fill= color, width=thickness)\n",
    "            if( j == len(a[i]['x'][0])):\n",
    "                draw.line([end, sta], fill= color, width=thickness)\n",
    "                \n",
    "    \n",
    "    img.show()\n",
    "    return img\n",
    "    \n",
    "    "
   ]
  },
  {
   "cell_type": "code",
   "execution_count": 42,
   "metadata": {},
   "outputs": [],
   "source": [
    "mat_dir = \"text-reco/TT_new_train_GT/Train/gt_img11.mat\"\n",
    "img_path = \"text-reco/totaltext/Images/Train/img11.jpg\"\n",
    "\n",
    "a = draw_line(mat_dir, img_path)"
   ]
  }
 ],
 "metadata": {
  "kernelspec": {
   "display_name": "common",
   "language": "python",
   "name": "python3"
  },
  "language_info": {
   "codemirror_mode": {
    "name": "ipython",
    "version": 3
   },
   "file_extension": ".py",
   "mimetype": "text/x-python",
   "name": "python",
   "nbconvert_exporter": "python",
   "pygments_lexer": "ipython3",
   "version": "3.11.4"
  },
  "orig_nbformat": 4
 },
 "nbformat": 4,
 "nbformat_minor": 2
}
