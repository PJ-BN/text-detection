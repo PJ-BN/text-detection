{
 "cells": [
  {
   "cell_type": "code",
   "execution_count": 2,
   "metadata": {},
   "outputs": [],
   "source": [
    "import scipy.io\n",
    "from PIL import Image, ImageDraw"
   ]
  },
  {
   "cell_type": "code",
   "execution_count": 5,
   "metadata": {},
   "outputs": [],
   "source": [
    "def get_axis(file):\n",
    "    values = []\n",
    "    mat = scipy.io.loadmat(file)\n",
    "    a = mat['gt']\n",
    "    b = [ i for i in a]\n",
    "    for i in b:\n",
    "        c = {\n",
    "            'x': i[1],\n",
    "            'y': i[3],\n",
    "            'val' :i[4]\n",
    "        }\n",
    "        \n",
    "        values.append(c)\n",
    "            \n",
    "    \n",
    "    return values\n",
    "    \n",
    "    \n",
    "    "
   ]
  },
  {
   "cell_type": "code",
   "execution_count": null,
   "metadata": {},
   "outputs": [],
   "source": [
    "def draw(path , start,end):\n",
    "    \n",
    "    img = Image.open(path)\n",
    "    color = (255,0,0)\n",
    "    thickness = 2\n",
    "    draw = ImageDraw.Draw(img)\n",
    "    draw.line([start, end], fill= color, width=thickness)\n",
    "    return img"
   ]
  },
  {
   "cell_type": "code",
   "execution_count": null,
   "metadata": {},
   "outputs": [],
   "source": [
    "def draw_line(file):\n",
    "    a= get_axis(file)\n",
    "    x_start = a['x'][0][0]\n",
    "    y_start = a['y'][0][0]\n",
    "    x_end = a['x'][0][1]\n",
    "    y_end = a['y'][0][1]\n",
    "    \n",
    "    "
   ]
  },
  {
   "cell_type": "code",
   "execution_count": 6,
   "metadata": {},
   "outputs": [],
   "source": [
    "mat_dir = \"text-reco/TT_new_train_GT/Train/gt_img11.mat\"\n",
    "img_path = \"text-reco/totaltext/Images/Train/img11.jpg\"\n",
    "\n",
    "a = get_axis(mat_dir)"
   ]
  },
  {
   "cell_type": "code",
   "execution_count": 7,
   "metadata": {},
   "outputs": [
    {
     "data": {
      "text/plain": [
       "{'x': array([[214, 250, 287, 324, 362, 349, 320, 290, 261, 231]], dtype=int16),\n",
       " 'y': array([[325, 298, 291, 297, 320, 347, 332, 324, 331, 346]], dtype=int16),\n",
       " 'val': array(['ASRAMA'], dtype='<U6')}"
      ]
     },
     "execution_count": 7,
     "metadata": {},
     "output_type": "execute_result"
    }
   ],
   "source": [
    "a[0]"
   ]
  },
  {
   "cell_type": "code",
   "execution_count": 8,
   "metadata": {},
   "outputs": [
    {
     "name": "stdout",
     "output_type": "stream",
     "text": [
      "{'x': array([[214, 250, 287, 324, 362, 349, 320, 290, 261, 231]], dtype=int16), 'y': array([[325, 298, 291, 297, 320, 347, 332, 324, 331, 346]], dtype=int16), 'val': array(['ASRAMA'], dtype='<U6')}\n",
      "{'x': array([[230, 261, 294, 325, 358, 384, 339, 295, 253, 211]], dtype=int16), 'y': array([[402, 417, 420, 415, 395, 419, 452, 462, 453, 425]], dtype=int16), 'val': array(['PELAJAR'], dtype='<U7')}\n",
      "{'x': array([[ 53,  69,  87, 103, 120, 121, 104,  87,  72,  56]], dtype=int16), 'y': array([[446, 445, 443, 443, 443, 456, 459, 458, 458, 458]], dtype=int16), 'val': array(['PERUNDING'], dtype='<U9')}\n",
      "{'x': array([[123, 133, 144, 155, 165, 166, 155, 144, 135, 125]], dtype=int16), 'y': array([[443, 442, 440, 440, 440, 453, 455, 455, 455, 455]], dtype=int16), 'val': array(['PENILAI'], dtype='<U7')}\n",
      "{'x': array([[168, 179, 179, 167]], dtype=int16), 'y': array([[439, 439, 452, 453]], dtype=int16), 'val': array(['#'], dtype='<U1')}\n",
      "{'x': array([[178, 184, 191, 199, 206, 209, 201, 194, 186, 180]], dtype=int16), 'y': array([[441, 437, 437, 437, 438, 451, 454, 454, 454, 454]], dtype=int16), 'val': array(['EJEN'], dtype='<U4')}\n",
      "{'x': array([[ 53,  76, 100, 125, 148, 149, 126, 100,  76,  51]], dtype=int16), 'y': array([[463, 459, 457, 457, 458, 480, 482, 483, 481, 483]], dtype=int16), 'val': array(['HENRY'], dtype='<U5')}\n",
      "{'x': array([[157, 173, 190, 207, 225, 228, 208, 191, 173, 155]], dtype=int16), 'y': array([[457, 453, 452, 452, 452, 476, 479, 479, 478, 479]], dtype=int16), 'val': array(['BUTC'], dtype='<U4')}\n",
      "{'x': array([[ 48,  71,  93, 116, 141, 142, 119,  96,  74,  53]], dtype=int16), 'y': array([[490, 486, 484, 484, 486, 499, 500, 500, 499, 498]], dtype=int16), 'val': array(['MALAYSIA'], dtype='<U8')}\n",
      "{'x': array([[151, 160, 169, 178, 185, 185, 177, 169, 161, 154]], dtype=int16), 'y': array([[486, 483, 483, 484, 484, 495, 496, 496, 496, 496]], dtype=int16), 'val': array(['SEL'], dtype='<U3')}\n",
      "{'x': array([[196, 206, 216, 225, 236, 237, 229, 217, 208, 199]], dtype=int16), 'y': array([[483, 479, 479, 479, 481, 493, 496, 496, 496, 495]], dtype=int16), 'val': array(['SDN'], dtype='<U3')}\n",
      "{'x': array([[244, 253, 263, 273, 283, 286, 276, 265, 256, 246]], dtype=int16), 'y': array([[480, 477, 478, 478, 479, 491, 494, 494, 494, 494]], dtype=int16), 'val': array(['BHD'], dtype='<U3')}\n"
     ]
    }
   ],
   "source": [
    "for i in a:\n",
    "    print(i)"
   ]
  },
  {
   "cell_type": "code",
   "execution_count": 9,
   "metadata": {},
   "outputs": [
    {
     "data": {
      "text/plain": [
       "{'x': array([[214, 250, 287, 324, 362, 349, 320, 290, 261, 231]], dtype=int16),\n",
       " 'y': array([[325, 298, 291, 297, 320, 347, 332, 324, 331, 346]], dtype=int16),\n",
       " 'val': array(['ASRAMA'], dtype='<U6')}"
      ]
     },
     "execution_count": 9,
     "metadata": {},
     "output_type": "execute_result"
    }
   ],
   "source": [
    "b= a[0]\n",
    "b\n"
   ]
  },
  {
   "cell_type": "code",
   "execution_count": 10,
   "metadata": {},
   "outputs": [
    {
     "data": {
      "text/plain": [
       "(214, 325)"
      ]
     },
     "execution_count": 10,
     "metadata": {},
     "output_type": "execute_result"
    }
   ],
   "source": [
    "x_start = b['x'][0][0]\n",
    "y_start = b['y'][0][0]\n",
    "x_start, y_start\n"
   ]
  },
  {
   "cell_type": "code",
   "execution_count": 11,
   "metadata": {},
   "outputs": [
    {
     "data": {
      "text/plain": [
       "(250, 298)"
      ]
     },
     "execution_count": 11,
     "metadata": {},
     "output_type": "execute_result"
    }
   ],
   "source": [
    "x_end = b['x'][0][1]\n",
    "y_end = b['y'][0][1]\n",
    "x_end, y_end"
   ]
  },
  {
   "cell_type": "code",
   "execution_count": 12,
   "metadata": {},
   "outputs": [],
   "source": [
    "img_path = \"text-reco/totaltext/Images/Train/img11.jpg\"\n",
    "img = Image.open(img_path)\n",
    "start = (x_start, y_start)\n",
    "end = (x_end, y_end)\n",
    "color = (255,0,0)\n",
    "thickness = 2\n"
   ]
  },
  {
   "cell_type": "code",
   "execution_count": 14,
   "metadata": {},
   "outputs": [],
   "source": [
    "img.show()"
   ]
  },
  {
   "cell_type": "code",
   "execution_count": 16,
   "metadata": {},
   "outputs": [],
   "source": [
    "draw = ImageDraw.Draw(img)\n",
    "draw.line([start, end], fill= color, width=thickness)"
   ]
  },
  {
   "cell_type": "code",
   "execution_count": 17,
   "metadata": {},
   "outputs": [],
   "source": [
    "img.show()"
   ]
  },
  {
   "cell_type": "code",
   "execution_count": null,
   "metadata": {},
   "outputs": [],
   "source": []
  }
 ],
 "metadata": {
  "kernelspec": {
   "display_name": "common",
   "language": "python",
   "name": "python3"
  },
  "language_info": {
   "codemirror_mode": {
    "name": "ipython",
    "version": 3
   },
   "file_extension": ".py",
   "mimetype": "text/x-python",
   "name": "python",
   "nbconvert_exporter": "python",
   "pygments_lexer": "ipython3",
   "version": "3.11.4"
  },
  "orig_nbformat": 4
 },
 "nbformat": 4,
 "nbformat_minor": 2
}
