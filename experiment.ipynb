{
 "cells": [
  {
   "cell_type": "code",
   "execution_count": 1,
   "metadata": {},
   "outputs": [],
   "source": [
    "import scipy.io"
   ]
  },
  {
   "cell_type": "code",
   "execution_count": 28,
   "metadata": {},
   "outputs": [],
   "source": [
    "mat_dir = \"text-reco/TT_new_train_GT/Train/gt_img11.mat\"\n",
    "mat = scipy.io.loadmat(mat_dir)\n"
   ]
  },
  {
   "cell_type": "code",
   "execution_count": 30,
   "metadata": {},
   "outputs": [],
   "source": [
    "a = mat['gt']"
   ]
  },
  {
   "cell_type": "code",
   "execution_count": 31,
   "metadata": {},
   "outputs": [
    {
     "data": {
      "text/plain": [
       "array([[array(['x:'], dtype='<U2'),\n",
       "        array([[214, 250, 287, 324, 362, 349, 320, 290, 261, 231]], dtype=int16),\n",
       "        array(['y:'], dtype='<U2'),\n",
       "        array([[325, 298, 291, 297, 320, 347, 332, 324, 331, 346]], dtype=int16),\n",
       "        array(['ASRAMA'], dtype='<U6'), array(['c'], dtype='<U1')],\n",
       "       [array(['x:'], dtype='<U2'),\n",
       "        array([[230, 261, 294, 325, 358, 384, 339, 295, 253, 211]], dtype=int16),\n",
       "        array(['y:'], dtype='<U2'),\n",
       "        array([[402, 417, 420, 415, 395, 419, 452, 462, 453, 425]], dtype=int16),\n",
       "        array(['PELAJAR'], dtype='<U7'), array(['c'], dtype='<U1')],\n",
       "       [array(['x:'], dtype='<U2'),\n",
       "        array([[ 53,  69,  87, 103, 120, 121, 104,  87,  72,  56]], dtype=int16),\n",
       "        array(['y:'], dtype='<U2'),\n",
       "        array([[446, 445, 443, 443, 443, 456, 459, 458, 458, 458]], dtype=int16),\n",
       "        array(['PERUNDING'], dtype='<U9'), array(['h'], dtype='<U1')],\n",
       "       [array(['x:'], dtype='<U2'),\n",
       "        array([[123, 133, 144, 155, 165, 166, 155, 144, 135, 125]], dtype=int16),\n",
       "        array(['y:'], dtype='<U2'),\n",
       "        array([[443, 442, 440, 440, 440, 453, 455, 455, 455, 455]], dtype=int16),\n",
       "        array(['PENILAI'], dtype='<U7'), array(['h'], dtype='<U1')],\n",
       "       [array(['x:'], dtype='<U2'),\n",
       "        array([[168, 179, 179, 167]], dtype=int16),\n",
       "        array(['y:'], dtype='<U2'),\n",
       "        array([[439, 439, 452, 453]], dtype=int16),\n",
       "        array(['#'], dtype='<U1'), array(['#'], dtype='<U1')],\n",
       "       [array(['x:'], dtype='<U2'),\n",
       "        array([[178, 184, 191, 199, 206, 209, 201, 194, 186, 180]], dtype=int16),\n",
       "        array(['y:'], dtype='<U2'),\n",
       "        array([[441, 437, 437, 437, 438, 451, 454, 454, 454, 454]], dtype=int16),\n",
       "        array(['EJEN'], dtype='<U4'), array(['h'], dtype='<U1')],\n",
       "       [array(['x:'], dtype='<U2'),\n",
       "        array([[ 53,  76, 100, 125, 148, 149, 126, 100,  76,  51]], dtype=int16),\n",
       "        array(['y:'], dtype='<U2'),\n",
       "        array([[463, 459, 457, 457, 458, 480, 482, 483, 481, 483]], dtype=int16),\n",
       "        array(['HENRY'], dtype='<U5'), array(['m'], dtype='<U1')],\n",
       "       [array(['x:'], dtype='<U2'),\n",
       "        array([[157, 173, 190, 207, 225, 228, 208, 191, 173, 155]], dtype=int16),\n",
       "        array(['y:'], dtype='<U2'),\n",
       "        array([[457, 453, 452, 452, 452, 476, 479, 479, 478, 479]], dtype=int16),\n",
       "        array(['BUTC'], dtype='<U4'), array(['m'], dtype='<U1')],\n",
       "       [array(['x:'], dtype='<U2'),\n",
       "        array([[ 48,  71,  93, 116, 141, 142, 119,  96,  74,  53]], dtype=int16),\n",
       "        array(['y:'], dtype='<U2'),\n",
       "        array([[490, 486, 484, 484, 486, 499, 500, 500, 499, 498]], dtype=int16),\n",
       "        array(['MALAYSIA'], dtype='<U8'), array(['m'], dtype='<U1')],\n",
       "       [array(['x:'], dtype='<U2'),\n",
       "        array([[151, 160, 169, 178, 185, 185, 177, 169, 161, 154]], dtype=int16),\n",
       "        array(['y:'], dtype='<U2'),\n",
       "        array([[486, 483, 483, 484, 484, 495, 496, 496, 496, 496]], dtype=int16),\n",
       "        array(['SEL'], dtype='<U3'), array(['h'], dtype='<U1')],\n",
       "       [array(['x:'], dtype='<U2'),\n",
       "        array([[196, 206, 216, 225, 236, 237, 229, 217, 208, 199]], dtype=int16),\n",
       "        array(['y:'], dtype='<U2'),\n",
       "        array([[483, 479, 479, 479, 481, 493, 496, 496, 496, 495]], dtype=int16),\n",
       "        array(['SDN'], dtype='<U3'), array(['h'], dtype='<U1')],\n",
       "       [array(['x:'], dtype='<U2'),\n",
       "        array([[244, 253, 263, 273, 283, 286, 276, 265, 256, 246]], dtype=int16),\n",
       "        array(['y:'], dtype='<U2'),\n",
       "        array([[480, 477, 478, 478, 479, 491, 494, 494, 494, 494]], dtype=int16),\n",
       "        array(['BHD'], dtype='<U3'), array(['m'], dtype='<U1')]],\n",
       "      dtype=object)"
      ]
     },
     "execution_count": 31,
     "metadata": {},
     "output_type": "execute_result"
    }
   ],
   "source": [
    "a"
   ]
  },
  {
   "cell_type": "code",
   "execution_count": null,
   "metadata": {},
   "outputs": [],
   "source": []
  }
 ],
 "metadata": {
  "kernelspec": {
   "display_name": "common",
   "language": "python",
   "name": "python3"
  },
  "language_info": {
   "codemirror_mode": {
    "name": "ipython",
    "version": 3
   },
   "file_extension": ".py",
   "mimetype": "text/x-python",
   "name": "python",
   "nbconvert_exporter": "python",
   "pygments_lexer": "ipython3",
   "version": "3.11.4"
  },
  "orig_nbformat": 4
 },
 "nbformat": 4,
 "nbformat_minor": 2
}
